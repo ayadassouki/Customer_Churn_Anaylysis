{
 "cells": [
  {
   "cell_type": "code",
   "execution_count": 7,
   "metadata": {},
   "outputs": [
    {
     "data": {
      "text/html": [
       "<div>\n",
       "<style scoped>\n",
       "    .dataframe tbody tr th:only-of-type {\n",
       "        vertical-align: middle;\n",
       "    }\n",
       "\n",
       "    .dataframe tbody tr th {\n",
       "        vertical-align: top;\n",
       "    }\n",
       "\n",
       "    .dataframe thead th {\n",
       "        text-align: right;\n",
       "    }\n",
       "</style>\n",
       "<table border=\"1\" class=\"dataframe\">\n",
       "  <thead>\n",
       "    <tr style=\"text-align: right;\">\n",
       "      <th></th>\n",
       "      <th>customerID</th>\n",
       "      <th>gender</th>\n",
       "      <th>SeniorCitizen</th>\n",
       "      <th>Partner</th>\n",
       "      <th>Dependents</th>\n",
       "      <th>tenure</th>\n",
       "      <th>PhoneService</th>\n",
       "      <th>MultipleLines</th>\n",
       "      <th>InternetService</th>\n",
       "      <th>OnlineSecurity</th>\n",
       "      <th>...</th>\n",
       "      <th>DeviceProtection</th>\n",
       "      <th>TechSupport</th>\n",
       "      <th>StreamingTV</th>\n",
       "      <th>StreamingMovies</th>\n",
       "      <th>Contract</th>\n",
       "      <th>PaperlessBilling</th>\n",
       "      <th>PaymentMethod</th>\n",
       "      <th>MonthlyCharges</th>\n",
       "      <th>TotalCharges</th>\n",
       "      <th>Churn</th>\n",
       "    </tr>\n",
       "  </thead>\n",
       "  <tbody>\n",
       "    <tr>\n",
       "      <th>0</th>\n",
       "      <td>7590-VHVEG</td>\n",
       "      <td>Female</td>\n",
       "      <td>0</td>\n",
       "      <td>Yes</td>\n",
       "      <td>No</td>\n",
       "      <td>1</td>\n",
       "      <td>No</td>\n",
       "      <td>No phone service</td>\n",
       "      <td>DSL</td>\n",
       "      <td>No</td>\n",
       "      <td>...</td>\n",
       "      <td>No</td>\n",
       "      <td>No</td>\n",
       "      <td>No</td>\n",
       "      <td>No</td>\n",
       "      <td>Month-to-month</td>\n",
       "      <td>Yes</td>\n",
       "      <td>Electronic check</td>\n",
       "      <td>29.85</td>\n",
       "      <td>29.85</td>\n",
       "      <td>No</td>\n",
       "    </tr>\n",
       "    <tr>\n",
       "      <th>1</th>\n",
       "      <td>5575-GNVDE</td>\n",
       "      <td>Male</td>\n",
       "      <td>0</td>\n",
       "      <td>No</td>\n",
       "      <td>No</td>\n",
       "      <td>34</td>\n",
       "      <td>Yes</td>\n",
       "      <td>No</td>\n",
       "      <td>DSL</td>\n",
       "      <td>Yes</td>\n",
       "      <td>...</td>\n",
       "      <td>Yes</td>\n",
       "      <td>No</td>\n",
       "      <td>No</td>\n",
       "      <td>No</td>\n",
       "      <td>One year</td>\n",
       "      <td>No</td>\n",
       "      <td>Mailed check</td>\n",
       "      <td>56.95</td>\n",
       "      <td>1889.5</td>\n",
       "      <td>No</td>\n",
       "    </tr>\n",
       "    <tr>\n",
       "      <th>2</th>\n",
       "      <td>3668-QPYBK</td>\n",
       "      <td>Male</td>\n",
       "      <td>0</td>\n",
       "      <td>No</td>\n",
       "      <td>No</td>\n",
       "      <td>2</td>\n",
       "      <td>Yes</td>\n",
       "      <td>No</td>\n",
       "      <td>DSL</td>\n",
       "      <td>Yes</td>\n",
       "      <td>...</td>\n",
       "      <td>No</td>\n",
       "      <td>No</td>\n",
       "      <td>No</td>\n",
       "      <td>No</td>\n",
       "      <td>Month-to-month</td>\n",
       "      <td>Yes</td>\n",
       "      <td>Mailed check</td>\n",
       "      <td>53.85</td>\n",
       "      <td>108.15</td>\n",
       "      <td>Yes</td>\n",
       "    </tr>\n",
       "    <tr>\n",
       "      <th>3</th>\n",
       "      <td>7795-CFOCW</td>\n",
       "      <td>Male</td>\n",
       "      <td>0</td>\n",
       "      <td>No</td>\n",
       "      <td>No</td>\n",
       "      <td>45</td>\n",
       "      <td>No</td>\n",
       "      <td>No phone service</td>\n",
       "      <td>DSL</td>\n",
       "      <td>Yes</td>\n",
       "      <td>...</td>\n",
       "      <td>Yes</td>\n",
       "      <td>Yes</td>\n",
       "      <td>No</td>\n",
       "      <td>No</td>\n",
       "      <td>One year</td>\n",
       "      <td>No</td>\n",
       "      <td>Bank transfer (automatic)</td>\n",
       "      <td>42.30</td>\n",
       "      <td>1840.75</td>\n",
       "      <td>No</td>\n",
       "    </tr>\n",
       "    <tr>\n",
       "      <th>4</th>\n",
       "      <td>9237-HQITU</td>\n",
       "      <td>Female</td>\n",
       "      <td>0</td>\n",
       "      <td>No</td>\n",
       "      <td>No</td>\n",
       "      <td>2</td>\n",
       "      <td>Yes</td>\n",
       "      <td>No</td>\n",
       "      <td>Fiber optic</td>\n",
       "      <td>No</td>\n",
       "      <td>...</td>\n",
       "      <td>No</td>\n",
       "      <td>No</td>\n",
       "      <td>No</td>\n",
       "      <td>No</td>\n",
       "      <td>Month-to-month</td>\n",
       "      <td>Yes</td>\n",
       "      <td>Electronic check</td>\n",
       "      <td>70.70</td>\n",
       "      <td>151.65</td>\n",
       "      <td>Yes</td>\n",
       "    </tr>\n",
       "  </tbody>\n",
       "</table>\n",
       "<p>5 rows × 21 columns</p>\n",
       "</div>"
      ],
      "text/plain": [
       "   customerID  gender  SeniorCitizen Partner Dependents  tenure PhoneService  \\\n",
       "0  7590-VHVEG  Female              0     Yes         No       1           No   \n",
       "1  5575-GNVDE    Male              0      No         No      34          Yes   \n",
       "2  3668-QPYBK    Male              0      No         No       2          Yes   \n",
       "3  7795-CFOCW    Male              0      No         No      45           No   \n",
       "4  9237-HQITU  Female              0      No         No       2          Yes   \n",
       "\n",
       "      MultipleLines InternetService OnlineSecurity  ... DeviceProtection  \\\n",
       "0  No phone service             DSL             No  ...               No   \n",
       "1                No             DSL            Yes  ...              Yes   \n",
       "2                No             DSL            Yes  ...               No   \n",
       "3  No phone service             DSL            Yes  ...              Yes   \n",
       "4                No     Fiber optic             No  ...               No   \n",
       "\n",
       "  TechSupport StreamingTV StreamingMovies        Contract PaperlessBilling  \\\n",
       "0          No          No              No  Month-to-month              Yes   \n",
       "1          No          No              No        One year               No   \n",
       "2          No          No              No  Month-to-month              Yes   \n",
       "3         Yes          No              No        One year               No   \n",
       "4          No          No              No  Month-to-month              Yes   \n",
       "\n",
       "               PaymentMethod MonthlyCharges  TotalCharges Churn  \n",
       "0           Electronic check          29.85         29.85    No  \n",
       "1               Mailed check          56.95        1889.5    No  \n",
       "2               Mailed check          53.85        108.15   Yes  \n",
       "3  Bank transfer (automatic)          42.30       1840.75    No  \n",
       "4           Electronic check          70.70        151.65   Yes  \n",
       "\n",
       "[5 rows x 21 columns]"
      ]
     },
     "execution_count": 7,
     "metadata": {},
     "output_type": "execute_result"
    }
   ],
   "source": [
    "import pandas as pd\n",
    "\n",
    "file_path = '/Users/ayadassouki/Desktop/Fall 2024/WA_Fn-UseC_-Telco-Customer-Churn.csv'\n",
    "\n",
    "telco_data = pd.read_csv(file_path)\n",
    "telco_data.head()\n"
   ]
  },
  {
   "cell_type": "code",
   "execution_count": 8,
   "metadata": {},
   "outputs": [
    {
     "name": "stdout",
     "output_type": "stream",
     "text": [
      "customerID           object\n",
      "gender               object\n",
      "SeniorCitizen         int64\n",
      "Partner              object\n",
      "Dependents           object\n",
      "tenure                int64\n",
      "PhoneService         object\n",
      "MultipleLines        object\n",
      "InternetService      object\n",
      "OnlineSecurity       object\n",
      "OnlineBackup         object\n",
      "DeviceProtection     object\n",
      "TechSupport          object\n",
      "StreamingTV          object\n",
      "StreamingMovies      object\n",
      "Contract             object\n",
      "PaperlessBilling     object\n",
      "PaymentMethod        object\n",
      "MonthlyCharges      float64\n",
      "TotalCharges         object\n",
      "Churn                object\n",
      "dtype: object\n"
     ]
    }
   ],
   "source": [
    "print(telco_data.dtypes)\n",
    "# Before we proceed, we have to check if the data that is supposed to be numeric is being treated as a number or not. etc"
   ]
  },
  {
   "cell_type": "code",
   "execution_count": 9,
   "metadata": {},
   "outputs": [
    {
     "name": "stdout",
     "output_type": "stream",
     "text": [
      "      customerID  gender  SeniorCitizen Partner Dependents  tenure  \\\n",
      "488   4472-LVYGI  Female              0     Yes        Yes       0   \n",
      "753   3115-CZMZD    Male              0      No        Yes       0   \n",
      "936   5709-LVOEQ  Female              0     Yes        Yes       0   \n",
      "1082  4367-NUYAO    Male              0     Yes        Yes       0   \n",
      "1340  1371-DWPAZ  Female              0     Yes        Yes       0   \n",
      "3331  7644-OMVMY    Male              0     Yes        Yes       0   \n",
      "3826  3213-VVOLG    Male              0     Yes        Yes       0   \n",
      "4380  2520-SGTTA  Female              0     Yes        Yes       0   \n",
      "5218  2923-ARZLG    Male              0     Yes        Yes       0   \n",
      "6670  4075-WKNIU  Female              0     Yes        Yes       0   \n",
      "6754  2775-SEFEE    Male              0      No        Yes       0   \n",
      "\n",
      "     PhoneService     MultipleLines InternetService       OnlineSecurity  ...  \\\n",
      "488            No  No phone service             DSL                  Yes  ...   \n",
      "753           Yes                No              No  No internet service  ...   \n",
      "936           Yes                No             DSL                  Yes  ...   \n",
      "1082          Yes               Yes              No  No internet service  ...   \n",
      "1340           No  No phone service             DSL                  Yes  ...   \n",
      "3331          Yes                No              No  No internet service  ...   \n",
      "3826          Yes               Yes              No  No internet service  ...   \n",
      "4380          Yes                No              No  No internet service  ...   \n",
      "5218          Yes                No              No  No internet service  ...   \n",
      "6670          Yes               Yes             DSL                   No  ...   \n",
      "6754          Yes               Yes             DSL                  Yes  ...   \n",
      "\n",
      "         DeviceProtection          TechSupport          StreamingTV  \\\n",
      "488                   Yes                  Yes                  Yes   \n",
      "753   No internet service  No internet service  No internet service   \n",
      "936                   Yes                   No                  Yes   \n",
      "1082  No internet service  No internet service  No internet service   \n",
      "1340                  Yes                  Yes                  Yes   \n",
      "3331  No internet service  No internet service  No internet service   \n",
      "3826  No internet service  No internet service  No internet service   \n",
      "4380  No internet service  No internet service  No internet service   \n",
      "5218  No internet service  No internet service  No internet service   \n",
      "6670                  Yes                  Yes                  Yes   \n",
      "6754                   No                  Yes                   No   \n",
      "\n",
      "          StreamingMovies  Contract PaperlessBilling  \\\n",
      "488                    No  Two year              Yes   \n",
      "753   No internet service  Two year               No   \n",
      "936                   Yes  Two year               No   \n",
      "1082  No internet service  Two year               No   \n",
      "1340                   No  Two year               No   \n",
      "3331  No internet service  Two year               No   \n",
      "3826  No internet service  Two year               No   \n",
      "4380  No internet service  Two year               No   \n",
      "5218  No internet service  One year              Yes   \n",
      "6670                   No  Two year               No   \n",
      "6754                   No  Two year              Yes   \n",
      "\n",
      "                  PaymentMethod MonthlyCharges  TotalCharges  Churn  \n",
      "488   Bank transfer (automatic)          52.55           NaN     No  \n",
      "753                Mailed check          20.25           NaN     No  \n",
      "936                Mailed check          80.85           NaN     No  \n",
      "1082               Mailed check          25.75           NaN     No  \n",
      "1340    Credit card (automatic)          56.05           NaN     No  \n",
      "3331               Mailed check          19.85           NaN     No  \n",
      "3826               Mailed check          25.35           NaN     No  \n",
      "4380               Mailed check          20.00           NaN     No  \n",
      "5218               Mailed check          19.70           NaN     No  \n",
      "6670               Mailed check          73.35           NaN     No  \n",
      "6754  Bank transfer (automatic)          61.90           NaN     No  \n",
      "\n",
      "[11 rows x 21 columns]\n"
     ]
    }
   ],
   "source": [
    "# Convert to numeric and force errors to NaN\n",
    "telco_data['TotalCharges'] = pd.to_numeric(telco_data['TotalCharges'], errors='coerce')\n",
    "\n",
    "# Find rows where conversion to numeric failed (i.e., NaN values)\n",
    "non_numeric_rows = telco_data[telco_data['TotalCharges'].isna()]\n",
    "print(non_numeric_rows)\n"
   ]
  },
  {
   "cell_type": "code",
   "execution_count": 10,
   "metadata": {},
   "outputs": [
    {
     "name": "stdout",
     "output_type": "stream",
     "text": [
      "TotalCharges\n",
      "20.20      11\n",
      "19.75       9\n",
      "20.05       8\n",
      "19.90       8\n",
      "19.65       8\n",
      "           ..\n",
      "6849.40     1\n",
      "692.35      1\n",
      "130.15      1\n",
      "3211.90     1\n",
      "6844.50     1\n",
      "Name: count, Length: 6530, dtype: int64\n"
     ]
    }
   ],
   "source": [
    "# Check for unique values in 'TotalCharges' (especially helpful for categorical/object columns)\n",
    "print(telco_data['TotalCharges'].value_counts())\n"
   ]
  },
  {
   "cell_type": "code",
   "execution_count": 11,
   "metadata": {},
   "outputs": [
    {
     "data": {
      "text/plain": [
       "(11,\n",
       "       customerID  gender  SeniorCitizen Partner Dependents  tenure  \\\n",
       " 488   4472-LVYGI  Female              0     Yes        Yes       0   \n",
       " 753   3115-CZMZD    Male              0      No        Yes       0   \n",
       " 936   5709-LVOEQ  Female              0     Yes        Yes       0   \n",
       " 1082  4367-NUYAO    Male              0     Yes        Yes       0   \n",
       " 1340  1371-DWPAZ  Female              0     Yes        Yes       0   \n",
       " \n",
       "      PhoneService     MultipleLines InternetService       OnlineSecurity  ...  \\\n",
       " 488            No  No phone service             DSL                  Yes  ...   \n",
       " 753           Yes                No              No  No internet service  ...   \n",
       " 936           Yes                No             DSL                  Yes  ...   \n",
       " 1082          Yes               Yes              No  No internet service  ...   \n",
       " 1340           No  No phone service             DSL                  Yes  ...   \n",
       " \n",
       "          DeviceProtection          TechSupport          StreamingTV  \\\n",
       " 488                   Yes                  Yes                  Yes   \n",
       " 753   No internet service  No internet service  No internet service   \n",
       " 936                   Yes                   No                  Yes   \n",
       " 1082  No internet service  No internet service  No internet service   \n",
       " 1340                  Yes                  Yes                  Yes   \n",
       " \n",
       "           StreamingMovies  Contract PaperlessBilling  \\\n",
       " 488                    No  Two year              Yes   \n",
       " 753   No internet service  Two year               No   \n",
       " 936                   Yes  Two year               No   \n",
       " 1082  No internet service  Two year               No   \n",
       " 1340                   No  Two year               No   \n",
       " \n",
       "                   PaymentMethod MonthlyCharges  TotalCharges  Churn  \n",
       " 488   Bank transfer (automatic)          52.55           NaN     No  \n",
       " 753                Mailed check          20.25           NaN     No  \n",
       " 936                Mailed check          80.85           NaN     No  \n",
       " 1082               Mailed check          25.75           NaN     No  \n",
       " 1340    Credit card (automatic)          56.05           NaN     No  \n",
       " \n",
       " [5 rows x 21 columns])"
      ]
     },
     "execution_count": 11,
     "metadata": {},
     "output_type": "execute_result"
    }
   ],
   "source": [
    "# Check how many missing values exist in 'TotalCharges' after conversion\n",
    "missing_total_charges = telco_data['TotalCharges'].isna().sum()\n",
    "\n",
    "# Display the rows where 'TotalCharges' is missing\n",
    "missing_total_charges_rows = telco_data[telco_data['TotalCharges'].isna()]\n",
    "\n",
    "missing_total_charges, missing_total_charges_rows.head()\n"
   ]
  },
  {
   "cell_type": "code",
   "execution_count": 12,
   "metadata": {},
   "outputs": [
    {
     "data": {
      "image/png": "[encoded data removed]",
      "text/plain": [
       "<Figure size 1000x600 with 1 Axes>"
      ]
     },
     "metadata": {},
     "output_type": "display_data"
    },
    {
     "data": {
      "image/png": "[encoded data removed]",
      "text/plain": [
       "<Figure size 1000x600 with 1 Axes>"
      ]
     },
     "metadata": {},
     "output_type": "display_data"
    },
    {
     "data": {
      "image/png": "[encoded data removed]",
      "text/plain": [
       "<Figure size 800x500 with 1 Axes>"
      ]
     },
     "metadata": {},
     "output_type": "display_data"
    }
   ],
   "source": [
    "import matplotlib.pyplot as plt\n",
    "import seaborn as sns\n",
    "\n",
    "# Set up the plot style\n",
    "sns.set(style=\"whitegrid\")\n",
    "\n",
    "# 1. Churn vs Tenure\n",
    "plt.figure(figsize=(10, 6))\n",
    "sns.histplot(data=telco_data, x='tenure', hue='Churn', multiple='stack', kde=False, palette='Set2')\n",
    "plt.title('Customer Churn vs Tenure')\n",
    "plt.xlabel('Tenure (Months)')\n",
    "plt.ylabel('Count of Customers')\n",
    "plt.show()\n",
    "\n",
    "# 2. Churn vs Monthly Charges\n",
    "plt.figure(figsize=(10, 6))\n",
    "sns.histplot(data=telco_data, x='MonthlyCharges', hue='Churn', multiple='stack', kde=False, palette='Set1')\n",
    "plt.title('Customer Churn vs Monthly Charges')\n",
    "plt.xlabel('Monthly Charges')\n",
    "plt.ylabel('Count of Customers')\n",
    "plt.show()\n",
    "\n",
    "# 3. Churn vs Contract Type\n",
    "plt.figure(figsize=(8, 5))\n",
    "sns.countplot(data=telco_data, x='Contract', hue='Churn', palette='Set3')\n",
    "plt.title('Customer Churn vs Contract Type')\n",
    "plt.xlabel('Contract Type')\n",
    "plt.ylabel('Count of Customers')\n",
    "plt.show()\n"
   ]
  },
  {
   "cell_type": "code",
   "execution_count": 13,
   "metadata": {},
   "outputs": [
    {
     "data": {
      "text/plain": [
       "((5634, 30), (1409, 30))"
      ]
     },
     "execution_count": 13,
     "metadata": {},
     "output_type": "execute_result"
    }
   ],
   "source": [
    "# split the data into training and testing models\n",
    "from sklearn.model_selection import train_test_split\n",
    "from sklearn.preprocessing import LabelEncoder\n",
    "\n",
    "# Encode the target variable 'Churn'\n",
    "label_encoder = LabelEncoder()\n",
    "telco_data['Churn'] = label_encoder.fit_transform(telco_data['Churn'])\n",
    "\n",
    "# Perform one-hot encoding on categorical features\n",
    "telco_encoded = pd.get_dummies(telco_data.drop(columns=['customerID']), drop_first=True)\n",
    "\n",
    "# Split the data into features (X) and target (y)\n",
    "X = telco_encoded.drop('Churn', axis=1)\n",
    "y = telco_encoded['Churn']\n",
    "\n",
    "# Split the dataset into training and testing sets (80% training, 20% testing)\n",
    "X_train, X_test, y_train, y_test = train_test_split(X, y, test_size=0.2, random_state=42)\n",
    "\n",
    "# Check the shape of the training and test sets\n",
    "X_train.shape, X_test.shape\n"
   ]
  },
  {
   "cell_type": "code",
   "execution_count": 17,
   "metadata": {},
   "outputs": [
    {
     "data": {
      "text/plain": [
       "(10, 1)"
      ]
     },
     "execution_count": 17,
     "metadata": {},
     "output_type": "execute_result"
    }
   ],
   "source": [
    "# Let's re-check for missing values in both X_train and X_test just to be sure.\n",
    "missing_values_train = X_train.isnull().sum().sum()\n",
    "missing_values_test = X_test.isnull().sum().sum()\n",
    "\n",
    "missing_values_train, missing_values_test\n"
   ]
  },
  {
   "cell_type": "code",
   "execution_count": 18,
   "metadata": {},
   "outputs": [
    {
     "data": {
      "text/plain": [
       "(0, 0)"
      ]
     },
     "execution_count": 18,
     "metadata": {},
     "output_type": "execute_result"
    }
   ],
   "source": [
    "# Impute missing values in both training and test sets using median for numerical columns\n",
    "from sklearn.impute import SimpleImputer\n",
    "\n",
    "# Create an imputer for numerical values\n",
    "imputer = SimpleImputer(strategy=\"median\")\n",
    "\n",
    "# Apply the imputer to both the training and test sets\n",
    "X_train_imputed = pd.DataFrame(imputer.fit_transform(X_train), columns=X_train.columns)\n",
    "X_test_imputed = pd.DataFrame(imputer.transform(X_test), columns=X_test.columns)\n",
    "\n",
    "# Check to ensure no more missing values\n",
    "missing_values_train_imputed = X_train_imputed.isnull().sum().sum()\n",
    "missing_values_test_imputed = X_test_imputed.isnull().sum().sum()\n",
    "\n",
    "missing_values_train_imputed, missing_values_test_imputed\n"
   ]
  },
  {
   "cell_type": "code",
   "execution_count": 19,
   "metadata": {},
   "outputs": [
    {
     "name": "stderr",
     "output_type": "stream",
     "text": [
      "/Library/Frameworks/Python.framework/Versions/3.11/lib/python3.11/site-packages/sklearn/linear_model/_logistic.py:469: ConvergenceWarning: lbfgs failed to converge (status=1):\n",
      "STOP: TOTAL NO. of ITERATIONS REACHED LIMIT.\n",
      "\n",
      "Increase the number of iterations (max_iter) or scale the data as shown in:\n",
      "    https://scikit-learn.org/stable/modules/preprocessing.html\n",
      "Please also refer to the documentation for alternative solver options:\n",
      "    https://scikit-learn.org/stable/modules/linear_model.html#logistic-regression\n",
      "  n_iter_i = _check_optimize_result(\n"
     ]
    },
    {
     "data": {
      "text/plain": [
       "(0.8211497515968772,\n",
       " '              precision    recall  f1-score   support\\n\\n           0       0.86      0.90      0.88      1036\\n           1       0.69      0.60      0.64       373\\n\\n    accuracy                           0.82      1409\\n   macro avg       0.77      0.75      0.76      1409\\nweighted avg       0.82      0.82      0.82      1409\\n')"
      ]
     },
     "execution_count": 19,
     "metadata": {},
     "output_type": "execute_result"
    }
   ],
   "source": [
    "# Train the Logistic Regression model on the imputed data\n",
    "log_model = LogisticRegression(max_iter=1000)\n",
    "log_model.fit(X_train_imputed, y_train)\n",
    "\n",
    "# Make predictions on the test set\n",
    "y_pred = log_model.predict(X_test_imputed)\n",
    "\n",
    "# Evaluate the model's performance\n",
    "accuracy = accuracy_score(y_test, y_pred)\n",
    "classification_rep = classification_report(y_test, y_pred)\n",
    "\n",
    "accuracy, classification_rep\n"
   ]
  },
  {
   "cell_type": "code",
   "execution_count": 21,
   "metadata": {},
   "outputs": [
    {
     "name": "stdout",
     "output_type": "stream",
     "text": [
      "              precision    recall  f1-score     support\n",
      "0              0.862292  0.900579  0.881020  1036.00000\n",
      "1              0.685015  0.600536  0.640000   373.00000\n",
      "accuracy       0.821150  0.821150  0.821150     0.82115\n",
      "macro avg      0.773654  0.750558  0.760510  1409.00000\n",
      "weighted avg   0.815362  0.821150  0.817215  1409.00000\n"
     ]
    }
   ],
   "source": [
    "import pandas as pd\n",
    "from sklearn.metrics import classification_report\n",
    "\n",
    "# Extract the classification report as a dictionary\n",
    "report_dict = classification_report(y_test, y_pred, output_dict=True)\n",
    "\n",
    "# Convert the dictionary into a DataFrame for better readability\n",
    "report_df = pd.DataFrame(report_dict).transpose()\n",
    "\n",
    "# Display the table\n",
    "print(report_df)\n",
    "\n",
    "# Optionally, save the DataFrame to a CSV file for further analysis\n",
    "report_df.to_csv('classification_report.csv', index=True)\n"
   ]
  },
  {
   "cell_type": "code",
   "execution_count": null,
   "metadata": {},
   "outputs": [],
   "source": []
  }
 ],
 "metadata": {
  "kernelspec": {
   "display_name": "Python 3.11.5 64-bit",
   "language": "python",
   "name": "python3"
  },
  "language_info": {
   "codemirror_mode": {
    "name": "ipython",
    "version": 3
   },
   "file_extension": ".py",
   "mimetype": "text/x-python",
   "name": "python",
   "nbconvert_exporter": "python",
   "pygments_lexer": "ipython3",
   "version": "3.11.5"
  },
  "orig_nbformat": 4,
  "vscode": {
   "interpreter": {
    "hash": "aee8b7b246df8f9039afb4144a1f6fd8d2ca17a180786b69acc140d282b71a49"
   }
  }
 },
 "nbformat": 4,
 "nbformat_minor": 2
}
